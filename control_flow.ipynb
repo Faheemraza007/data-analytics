{
 "cells": [
  {
   "cell_type": "markdown",
   "metadata": {},
   "source": [
    "5 aug 2024\n",
    "if elif ladder"
   ]
  },
  {
   "cell_type": "code",
   "execution_count": 1,
   "metadata": {},
   "outputs": [
    {
     "name": "stdout",
     "output_type": "stream",
     "text": [
      "C is the greatest\n"
     ]
    }
   ],
   "source": [
    "\n",
    "\n",
    "\n",
    "a = 14\n",
    "b = 22\n",
    "c = 55\n",
    "if a > b and a > c :\n",
    "     print(\"A is the grestest\")\n",
    "elif b > a and b > c :\n",
    "     print(\"B is the greatest\")\n",
    "else :\n",
    "     print(\"C is the greatest\")\n",
    "     "
   ]
  },
  {
   "cell_type": "code",
   "execution_count": 1,
   "metadata": {},
   "outputs": [
    {
     "name": "stdout",
     "output_type": "stream",
     "text": [
      "students marks = 70\n",
      "students grade = C\n"
     ]
    }
   ],
   "source": [
    "marks = int(input(\"entr the marks:\"))\n",
    "if marks >= 90:\n",
    "    grade = \"A\"\n",
    "elif marks >= 75:\n",
    "    grade = \"B\"\n",
    "elif marks >= 60:\n",
    "    grade = \"C\"\n",
    "elif marks >= 50:\n",
    "    grade = \"D\" \n",
    "else:\n",
    "    grade = \"F\"\n",
    "print(f\"students marks = {marks}\")\n",
    "print(f\"students grade = {grade}\")"
   ]
  },
  {
   "cell_type": "markdown",
   "metadata": {},
   "source": [
    "# match case"
   ]
  },
  {
   "cell_type": "code",
   "execution_count": 3,
   "metadata": {},
   "outputs": [
    {
     "name": "stdout",
     "output_type": "stream",
     "text": [
      "you are correct\n"
     ]
    }
   ],
   "source": [
    "ans = input(\"what is the capital of india?\")\n",
    "match ans:\n",
    "    case 'Lucknow':\n",
    "        print(\"you are too stupid\")\n",
    "    case 'Delhi':\n",
    "        print(\"you are correct\")\n",
    "    case 'culcutta':\n",
    "        print(\"you must be under the stone\")\n",
    "    case 'shimla':\n",
    "        print(\"this is free india\")\n",
    "    case _:\n",
    "        print(\"you are not from india\")    "
   ]
  },
  {
   "cell_type": "code",
   "execution_count": 4,
   "metadata": {},
   "outputs": [
    {
     "name": "stdout",
     "output_type": "stream",
     "text": [
      "chai ki dukaan\n",
      "1. chai 10 ruppes\n",
      "2. bun makkhan 30 rs\n",
      "3. cutting 5 rs\n",
      "4. samosa 10 rs\n",
      "you have selected samosa\n"
     ]
    }
   ],
   "source": [
    "print(\"chai ki dukaan\")\n",
    "print(\"1. chai 10 ruppes\")\n",
    "print(\"2. bun makkhan 30 rs\")\n",
    "print(\"3. cutting 5 rs\")\n",
    "print(\"4. samosa 10 rs\")\n",
    "choice = int(input(\"enter your choice:\"))\n",
    "match choice:\n",
    "    case 1:\n",
    "        print(\"you have selected chai\")\n",
    "    case 2:\n",
    "        print(\"you have selected bun makkhan\")\n",
    "    case 3:\n",
    "        print(\"you have selected cutting\")\n",
    "    case 4: \n",
    "        print(\"you have selected samosa\")\n",
    "    case _:\n",
    "        print(\"chal nikal\")"
   ]
  },
  {
   "cell_type": "code",
   "execution_count": null,
   "metadata": {},
   "outputs": [],
   "source": []
  }
 ],
 "metadata": {
  "kernelspec": {
   "display_name": "base",
   "language": "python",
   "name": "python3"
  },
  "language_info": {
   "codemirror_mode": {
    "name": "ipython",
    "version": 3
   },
   "file_extension": ".py",
   "mimetype": "text/x-python",
   "name": "python",
   "nbconvert_exporter": "python",
   "pygments_lexer": "ipython3",
   "version": "3.12.4"
  }
 },
 "nbformat": 4,
 "nbformat_minor": 2
}
