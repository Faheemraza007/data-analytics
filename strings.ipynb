{
 "cells": [
  {
   "cell_type": "markdown",
   "metadata": {},
   "source": [
    "# String\n",
    "- creating\n",
    "- indexing\n",
    "- slicing\n",
    "- methods\n"
   ]
  },
  {
   "cell_type": "code",
   "execution_count": 1,
   "metadata": {},
   "outputs": [],
   "source": [
    "# creation\n",
    "a = '' # empty string\n",
    "name =  'Sara' # sibgle string\n",
    "city = \"lucknow\" # double string\n",
    "message = ''' this is an example of \n",
    "multiline string in python, \n",
    "triple qoutes allow multi line concept'''"
   ]
  },
  {
   "cell_type": "code",
   "execution_count": 3,
   "metadata": {},
   "outputs": [
    {
     "name": "stdout",
     "output_type": "stream",
     "text": [
      "~o~|~o~|~o~|~o~|~o~|~o~|~o~|~o~|~o~|~o~|\n"
     ]
    }
   ],
   "source": [
    "# string duplication\n",
    "decor = '~o~|' * 10\n",
    "print(decor)"
   ]
  },
  {
   "cell_type": "code",
   "execution_count": 4,
   "metadata": {},
   "outputs": [
    {
     "data": {
      "text/plain": [
       "'Sara_lucknow'"
      ]
     },
     "execution_count": 4,
     "metadata": {},
     "output_type": "execute_result"
    }
   ],
   "source": [
    "# string concatenation\n",
    "name + \"_\" + city"
   ]
  },
  {
   "cell_type": "code",
   "execution_count": 6,
   "metadata": {},
   "outputs": [
    {
     "name": "stdout",
     "output_type": "stream",
     "text": [
      "156449\n",
      "[1, 2, 3]\n",
      "True\n",
      "False\n"
     ]
    }
   ],
   "source": [
    "# casting\n",
    "a= str(156449)\n",
    "b = str([1,2,3])\n",
    "c = str(True)\n",
    "d = str(False)\n",
    "print(a)\n",
    "print(b)\n",
    "print(c)\n",
    "print(d)\n"
   ]
  },
  {
   "cell_type": "markdown",
   "metadata": {},
   "source": [
    "# string is indexed and immutable"
   ]
  },
  {
   "cell_type": "code",
   "execution_count": 9,
   "metadata": {},
   "outputs": [
    {
     "name": "stdout",
     "output_type": "stream",
     "text": [
      "SYNCRONISED\n",
      "11\n"
     ]
    }
   ],
   "source": [
    "word = \"SYNCRONISED\"\n",
    "print(word)\n",
    "print(len(word))"
   ]
  },
  {
   "cell_type": "code",
   "execution_count": 10,
   "metadata": {},
   "outputs": [
    {
     "name": "stdout",
     "output_type": "stream",
     "text": [
      "SYNCRONISED\n",
      "11\n",
      "S\n",
      "Y\n",
      "N\n",
      "C\n",
      "R\n",
      "O\n",
      "D\n",
      "E\n",
      "S\n",
      "I\n",
      "N\n"
     ]
    }
   ],
   "source": [
    "word = \"SYNCRONISED\"\n",
    "print(word)\n",
    "print(len(word))\n",
    "print(word[0])\n",
    "print(word[1])\n",
    "print(word[2])\n",
    "print(word[3])\n",
    "print(word[4])\n",
    "print(word[5])\n",
    "print(word[-1])\n",
    "print(word[-2])\n",
    "print(word[-3])\n",
    "print(word[-4])\n",
    "print(word[-5])"
   ]
  },
  {
   "cell_type": "markdown",
   "metadata": {},
   "source": [
    "# slicing"
   ]
  },
  {
   "cell_type": "markdown",
   "metadata": {},
   "source": [
    "Syntax\n",
    "```python\n",
    "\n",
    "var[start: stop]  # start from an index and get before top\n",
    "\n",
    "var[start: stop: step] \n",
    "\n",
    "var[: stop] # start from beginning\n",
    "\n",
    "var[start: ] # start from an index stop at the end\n",
    "\n"
   ]
  },
  {
   "cell_type": "code",
   "execution_count": 12,
   "metadata": {},
   "outputs": [
    {
     "name": "stdout",
     "output_type": "stream",
     "text": [
      "SYNC\n",
      "SYNC\n",
      "ONI\n",
      "RONISED\n",
      "YCOIE\n",
      "SNRNS\n",
      "SNRNSD\n",
      "DESINORCNYS\n"
     ]
    }
   ],
   "source": [
    "print(word[0:4])\n",
    "print(word[:4])\n",
    "print(word[5:8])\n",
    "print(word[4:])\n",
    "print(word[1:10:2])\n",
    "print(word[:10:2])\n",
    "print(word[::2]) # all even indexes\n",
    "print(word[::-1]) # reverse"
   ]
  },
  {
   "cell_type": "code",
   "execution_count": 17,
   "metadata": {},
   "outputs": [
    {
     "name": "stdout",
     "output_type": "stream",
     "text": [
      "Vijay\n",
      "Deenanth \n",
      "Chauhan\n"
     ]
    }
   ],
   "source": [
    "name = \"Vijay Deenanth Chauhan\"\n",
    "print(name[0:5])\n",
    "print(name[6:15])\n",
    "print(name[15:23])"
   ]
  },
  {
   "cell_type": "code",
   "execution_count": 19,
   "metadata": {},
   "outputs": [
    {
     "name": "stdout",
     "output_type": "stream",
     "text": [
      "Vijay\n",
      "Deenanth \n",
      "Chauhan\n"
     ]
    }
   ],
   "source": [
    "name = \"Vijay Deenanth Chauhan\"  # by storing value in variables\n",
    "f_name = name[:5]\n",
    "m_name = name[6:15]\n",
    "n_name = name[15:]\n",
    "print(f_name)\n",
    "print(m_name)\n",
    "print(n_name)"
   ]
  },
  {
   "cell_type": "markdown",
   "metadata": {},
   "source": [
    "# 9aug 2024\n",
    "\n",
    "#string method\n",
    "- formatting\n",
    "- validation\n",
    "- utility"
   ]
  },
  {
   "cell_type": "code",
   "execution_count": 1,
   "metadata": {},
   "outputs": [
    {
     "name": "stdout",
     "output_type": "stream",
     "text": [
      "original: journey before destination\n",
      "upper: JOURNEY BEFORE DESTINATION\n",
      "lower: journey before destination\n",
      "capitaize: Journey before destination\n",
      "title: Journey Before Destination\n",
      "swapcase: JOURNEY BEFORE DESTINATION\n",
      "casefold: journey before destination\n"
     ]
    }
   ],
   "source": [
    "# formatting\n",
    "quote = \"journey before destination\"\n",
    "print(\"original:\", quote)\n",
    "print(\"upper:\", quote.upper())\n",
    "print(\"lower:\", quote.lower())\n",
    "print(\"capitaize:\", quote.capitalize())\n",
    "print(\"title:\", quote.title())\n",
    "print(\"swapcase:\", quote.swapcase())\n",
    "print(\"casefold:\", quote.casefold())"
   ]
  },
  {
   "cell_type": "code",
   "execution_count": 3,
   "metadata": {},
   "outputs": [
    {
     "name": "stdout",
     "output_type": "stream",
     "text": [
      "journey before destination                                                      \n",
      "journey before destination------------------------------------------------------\n",
      "                                                      journey before destination\n",
      "^^^^^^^^^^^^^^^^^^^^^^^^^^^^^^^^^^^^^^^^^^^^^^^^^^^^^^journey before destination\n",
      "                           journey before destination                           \n",
      "___________________________journey before destination___________________________\n"
     ]
    }
   ],
   "source": [
    "print(quote.ljust(80))\n",
    "print(quote.ljust(80, '-'))\n",
    "print(quote.rjust(80))\n",
    "print(quote.rjust(80, '^'))\n",
    "print(quote.center(80))\n",
    "print(quote.center(80, '_'))\n"
   ]
  },
  {
   "cell_type": "code",
   "execution_count": 5,
   "metadata": {},
   "outputs": [
    {
     "name": "stdout",
     "output_type": "stream",
     "text": [
      "True\n",
      "False\n",
      "True\n",
      "False\n",
      "False\n",
      "True\n",
      "True\n",
      "True\n",
      "False\n",
      "False\n",
      "True\n",
      "True\n",
      "False\n"
     ]
    }
   ],
   "source": [
    "#validation\n",
    "print('123'.isdigit())  #check if it is number or not\n",
    "print('1 23'.isdigit()) \n",
    "print('apple'.isalpha()) \n",
    "print('1apple'.isalpha()) \n",
    "print('apple pie'.isalpha()) \n",
    "print('apple123'.isalnum()) \n",
    "print('123'.isalnum()) \n",
    "print('cherry'.isalnum()) \n",
    "print('cherry 123'.isalnum()) \n",
    "print('cherry 123'.isnumeric()) \n",
    "print('123'.isnumeric()) \n",
    "print('   '.isspace()) \n",
    "print('1 3 2'.isspace()) "
   ]
  },
  {
   "cell_type": "code",
   "execution_count": 8,
   "metadata": {},
   "outputs": [
    {
     "name": "stdout",
     "output_type": "stream",
     "text": [
      "please go back to kindergarden\n"
     ]
    }
   ],
   "source": [
    "num = input(\"enter a  number\")\n",
    "if num.isnumeric():\n",
    "    num = int(num)\n",
    "    print(\"good\")\n",
    "else:\n",
    "    print(\"please go back to kindergarden\")"
   ]
  },
  {
   "cell_type": "code",
   "execution_count": 9,
   "metadata": {},
   "outputs": [
    {
     "name": "stdout",
     "output_type": "stream",
     "text": [
      "True\n",
      "False\n",
      "False\n",
      "True\n",
      "True\n",
      "True\n",
      "False\n"
     ]
    }
   ],
   "source": [
    "print('apple'.startswith('a'))\n",
    "print('apple'.startswith('A'))\n",
    "print('apple'.startswith('b'))\n",
    "print('apple'.endswith('e'))\n",
    "print('book.pdf'.endswith('pdf'))\n",
    "print('book_one.pdf'.startswith('book'))\n",
    "print('book_one.pdf'.startswith('one'))"
   ]
  },
  {
   "cell_type": "code",
   "execution_count": 14,
   "metadata": {},
   "outputs": [
    {
     "name": "stdout",
     "output_type": "stream",
     "text": [
      "a.exe\n",
      "b.exe\n",
      "d.exe\n",
      "3\n"
     ]
    }
   ],
   "source": [
    "apps = ['a.exe', 'b.exe', 'c.pdf', 'd.exe', 'e.doc', 'f.doc']\n",
    "count=0\n",
    "for app in apps:\n",
    "    if app.endswith('.exe'):\n",
    "        print(app)\n",
    "        count+=1\n",
    "print(count)        \n"
   ]
  },
  {
   "cell_type": "code",
   "execution_count": 22,
   "metadata": {},
   "outputs": [
    {
     "name": "stdout",
     "output_type": "stream",
     "text": [
      "8\n",
      "8\n",
      "4\n",
      "20\n",
      "4\n",
      "19\n",
      "10\n",
      "-1\n"
     ]
    }
   ],
   "source": [
    "# utility - find, replace, count, strip, split, join\n",
    "print(quote.find('b'))\n",
    "print(quote.find('before'))\n",
    "print(quote.find('n'))\n",
    "print(quote.find('n', 5))  # start from 5 index\n",
    "print(quote.find('n', 1, 10))  # start from 1st index , stop 10 index\n",
    "print(quote.find('i'))\n",
    "print(quote.find('fore de'))\n",
    "print(quote.find('FORE DE'))"
   ]
  },
  {
   "cell_type": "code",
   "execution_count": 29,
   "metadata": {},
   "outputs": [
    {
     "name": "stdout",
     "output_type": "stream",
     "text": [
      "journzy bzforz dzstination\n",
      "journzy bzforz dzstination\n",
      "journzy bzforz dzstination\n",
      "journzy bzforz dzstination\n",
      "journzy bzforz dzstinption\n"
     ]
    }
   ],
   "source": [
    "print(quote.replace(\"before\",\"after\"))\n",
    "print(quote.replace(\"e\",\"z\"))\n",
    "print(quote.replace(\"e\",\"z\",2))\n",
    "print(quote.replace(\"e\",\"___\"))\n",
    "quote = quote.replace(\"e\",\"z\")\n",
    "quote = quote.replace(\"e\",\"z\").replace(\"before\",\"after\").replace(\"a\",\"p\")\n",
    "print(quote)\n",
    "\n",
    "\n"
   ]
  },
  {
   "cell_type": "code",
   "execution_count": 32,
   "metadata": {},
   "outputs": [
    {
     "name": "stdout",
     "output_type": "stream",
     "text": [
      "8\n",
      "1\n",
      "1\n",
      "1\n"
     ]
    }
   ],
   "source": [
    "word = 'egg sea egg beacon egg egg egg egg egg egg'\n",
    "print(word.count('egg'))\n",
    "print(word.count('egg s'))\n",
    "print(word.count('beacon'))\n",
    "print(word.count('sea'))"
   ]
  },
  {
   "cell_type": "code",
   "execution_count": 34,
   "metadata": {},
   "outputs": [
    {
     "name": "stdout",
     "output_type": "stream",
     "text": [
      " Alex mason \n",
      "Alex mason\n"
     ]
    }
   ],
   "source": [
    "name = ' Alex mason '\n",
    "print(name)\n",
    "print(name.strip())"
   ]
  },
  {
   "cell_type": "code",
   "execution_count": 35,
   "metadata": {},
   "outputs": [
    {
     "name": "stdout",
     "output_type": "stream",
     "text": [
      "\n",
      "\n",
      "     123456987\n",
      "\n",
      "\n",
      "123456987\n"
     ]
    }
   ],
   "source": [
    "data = '''\n",
    "\n",
    "     123456987\n",
    "\n",
    "'''\n",
    "print(data)\n",
    "print(data.strip())"
   ]
  },
  {
   "cell_type": "code",
   "execution_count": 37,
   "metadata": {},
   "outputs": [
    {
     "name": "stdout",
     "output_type": "stream",
     "text": [
      "['egg', 'sea', 'egg', 'beacon', 'egg', 'egg', 'egg', 'egg', 'egg', 'egg']\n",
      "['a', 'b', 'c', 'd', 'e']\n"
     ]
    }
   ],
   "source": [
    "print(word.split())\n",
    "print(\"a,b,c,d,e\".split(','))"
   ]
  },
  {
   "cell_type": "code",
   "execution_count": 40,
   "metadata": {},
   "outputs": [
    {
     "name": "stdout",
     "output_type": "stream",
     "text": [
      " \n",
      "johonny johnny  , yes papa,\n",
      "eating sugar ?  no papa,\n",
      "telling lies ?  no papa,\n",
      "open your mouth ,  hahahahahahahahahahahahah\n",
      "\n",
      "\n",
      "\n",
      "\n",
      " \n",
      "johonny johnny  , yes papa,\n",
      "eating sugar ?  no papa,\n",
      "telling lies ?  no papa,\n",
      "open your mouth ,  hahahahahahahahahahahahah\n",
      "\n",
      "\n",
      "\n",
      "\n"
     ]
    }
   ],
   "source": [
    "poem=''' \n",
    "johonny johnny  , yes papa,\n",
    "eating sugar ?  no papa,\n",
    "telling lies ?  no papa,\n",
    "open your mouth ,  hahahahahahahahahahahahah\n",
    "\n",
    "\n",
    "\n",
    "'''\n",
    "print(poem)\n",
    "sentence = poem.strip().splitlines()\n",
    "print(poem)\n"
   ]
  },
  {
   "cell_type": "code",
   "execution_count": 41,
   "metadata": {},
   "outputs": [
    {
     "name": "stdout",
     "output_type": "stream",
     "text": [
      "['192', '168', '1', '1']\n",
      "192.168.1.1\n"
     ]
    }
   ],
   "source": [
    "addr = ['192','168','1','1']\n",
    "print(addr)\n",
    "ip_addr = \".\".join(addr)\n",
    "print(ip_addr)"
   ]
  },
  {
   "cell_type": "code",
   "execution_count": null,
   "metadata": {},
   "outputs": [],
   "source": []
  }
 ],
 "metadata": {
  "kernelspec": {
   "display_name": "base",
   "language": "python",
   "name": "python3"
  },
  "language_info": {
   "codemirror_mode": {
    "name": "ipython",
    "version": 3
   },
   "file_extension": ".py",
   "mimetype": "text/x-python",
   "name": "python",
   "nbconvert_exporter": "python",
   "pygments_lexer": "ipython3",
   "version": "3.12.4"
  }
 },
 "nbformat": 4,
 "nbformat_minor": 2
}
