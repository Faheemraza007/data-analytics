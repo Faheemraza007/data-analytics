{
 "cells": [
  {
   "cell_type": "markdown",
   "metadata": {},
   "source": [
    "# data structure\n",
    "- indexed\n",
    "- ordered\n",
    "- `immutable`\n",
    "- heterogenous\n",
    "- duplicates are allowed\n",
    "- represented using `( )`\n",
    "- tuple() for creating tuple"
   ]
  },
  {
   "cell_type": "markdown",
   "metadata": {},
   "source": []
  },
  {
   "cell_type": "code",
   "execution_count": 1,
   "metadata": {},
   "outputs": [
    {
     "name": "stdout",
     "output_type": "stream",
     "text": [
      "<class 'tuple'> <class 'tuple'>\n",
      "<class 'tuple'> <class 'tuple'>\n",
      "<class 'tuple'> <class 'tuple'>\n"
     ]
    }
   ],
   "source": [
    "a = (1,2,3,4)\n",
    "b = (1,)   # single element tuple\n",
    "c = ('a','b','c','d')  # tuple of strings\n",
    "d = 1,2,3,4,5,6  # packing\n",
    "print(type(a), type(b))\n",
    "print(type(c), type(d))\n",
    "print(type(a), type(b))"
   ]
  },
  {
   "cell_type": "code",
   "execution_count": 3,
   "metadata": {},
   "outputs": [
    {
     "name": "stdout",
     "output_type": "stream",
     "text": [
      "1\n",
      "2\n",
      "3\n",
      "4\n"
     ]
    }
   ],
   "source": [
    "# traversing a tuple\n",
    "for i in a:\n",
    "    print(i)"
   ]
  },
  {
   "cell_type": "code",
   "execution_count": 4,
   "metadata": {},
   "outputs": [
    {
     "name": "stdout",
     "output_type": "stream",
     "text": [
      "1\n",
      "4\n",
      "3\n"
     ]
    }
   ],
   "source": [
    "# indexing\n",
    "print(a[0])  # 1st element\n",
    "print(a[-1])  # last element\n",
    "print(a[2])  # 3rd  element\n"
   ]
  },
  {
   "cell_type": "code",
   "execution_count": 5,
   "metadata": {},
   "outputs": [
    {
     "name": "stdout",
     "output_type": "stream",
     "text": [
      "(2, 3)\n",
      "(4, 3, 2, 1)\n"
     ]
    }
   ],
   "source": [
    "# slicing\n",
    "print(a[1:3]) # 2nd to 3 rd element\n",
    "print(a[::-1]) # reverse\n"
   ]
  },
  {
   "cell_type": "markdown",
   "metadata": {},
   "source": [
    "# methods in tuple\n",
    "- count()\n",
    "- index()"
   ]
  },
  {
   "cell_type": "code",
   "execution_count": 8,
   "metadata": {},
   "outputs": [
    {
     "name": "stdout",
     "output_type": "stream",
     "text": [
      "7\n",
      "7\n",
      "7\n",
      "15\n",
      "0\n"
     ]
    }
   ],
   "source": [
    "a = 1,1,1,1,1,1,1,2,2,2,2,2,2,2,34,343,43,4343434,34,34343,43,43,4\n",
    "print(a.count(1))\n",
    "print(a.count(2))\n",
    "print(a.index(2))\n",
    "print(a.index(343))\n",
    "print(a.index(1))"
   ]
  },
  {
   "cell_type": "markdown",
   "metadata": {},
   "source": [
    "# tuple unpacking"
   ]
  },
  {
   "cell_type": "code",
   "execution_count": 12,
   "metadata": {},
   "outputs": [
    {
     "name": "stdout",
     "output_type": "stream",
     "text": [
      "1 2 3 4\n",
      "1 [2, 3, 4]\n",
      "[1, 2, 3] 4\n",
      "1 2 [3, 4]\n"
     ]
    }
   ],
   "source": [
    "x = (1,2,3,4)\n",
    "a ,b ,c ,d = x\n",
    "print(a,b,c,d)\n",
    "\n",
    "i, *j = x\n",
    "print(i, j)\n",
    "\n",
    "*i, j = x\n",
    "print(i, j)\n",
    "\n",
    "i, j, *k = x\n",
    "print(i, j, k)"
   ]
  },
  {
   "cell_type": "code",
   "execution_count": 15,
   "metadata": {},
   "outputs": [
    {
     "name": "stdout",
     "output_type": "stream",
     "text": [
      "(1, 4, 9, 16)\n"
     ]
    }
   ],
   "source": [
    "x = (1,2,3,4)\n",
    "x2 = (i**2 for i  in x)\n",
    "print(tuple(x2))"
   ]
  },
  {
   "cell_type": "code",
   "execution_count": null,
   "metadata": {},
   "outputs": [],
   "source": [
    "\n"
   ]
  }
 ],
 "metadata": {
  "kernelspec": {
   "display_name": "base",
   "language": "python",
   "name": "python3"
  },
  "language_info": {
   "codemirror_mode": {
    "name": "ipython",
    "version": 3
   },
   "file_extension": ".py",
   "mimetype": "text/x-python",
   "name": "python",
   "nbconvert_exporter": "python",
   "pygments_lexer": "ipython3",
   "version": "3.12.4"
  }
 },
 "nbformat": 4,
 "nbformat_minor": 2
}
