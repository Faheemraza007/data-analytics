{
 "cells": [
  {
   "cell_type": "markdown",
   "metadata": {},
   "source": [
    "5 aug 2024\n",
    "if elif ladder"
   ]
  },
  {
   "cell_type": "code",
   "execution_count": 1,
   "metadata": {},
   "outputs": [
    {
     "name": "stdout",
     "output_type": "stream",
     "text": [
      "C is the greatest\n"
     ]
    }
   ],
   "source": [
    "\n",
    "\n",
    "\n",
    "a = 14\n",
    "b = 22\n",
    "c = 55\n",
    "if a > b and a > c :\n",
    "     print(\"A is the grestest\")\n",
    "elif b > a and b > c :\n",
    "     print(\"B is the greatest\")\n",
    "else :\n",
    "     print(\"C is the greatest\")\n",
    "     "
   ]
  },
  {
   "cell_type": "code",
   "execution_count": 1,
   "metadata": {},
   "outputs": [
    {
     "name": "stdout",
     "output_type": "stream",
     "text": [
      "students marks = 70\n",
      "students grade = C\n"
     ]
    }
   ],
   "source": [
    "marks = int(input(\"entr the marks:\"))\n",
    "if marks >= 90:\n",
    "    grade = \"A\"\n",
    "elif marks >= 75:\n",
    "    grade = \"B\"\n",
    "elif marks >= 60:\n",
    "    grade = \"C\"\n",
    "elif marks >= 50:\n",
    "    grade = \"D\" \n",
    "else:\n",
    "    grade = \"F\"\n",
    "print(f\"students marks = {marks}\")\n",
    "print(f\"students grade = {grade}\")"
   ]
  },
  {
   "cell_type": "markdown",
   "metadata": {},
   "source": [
    "# match case"
   ]
  },
  {
   "cell_type": "code",
   "execution_count": 3,
   "metadata": {},
   "outputs": [
    {
     "name": "stdout",
     "output_type": "stream",
     "text": [
      "you are correct\n"
     ]
    }
   ],
   "source": [
    "ans = input(\"what is the capital of india?\")\n",
    "match ans:\n",
    "    case 'Lucknow':\n",
    "        print(\"you are too stupid\")\n",
    "    case 'Delhi':\n",
    "        print(\"you are correct\")\n",
    "    case 'culcutta':\n",
    "        print(\"you must be under the stone\")\n",
    "    case 'shimla':\n",
    "        print(\"this is free india\")\n",
    "    case _:\n",
    "        print(\"you are not from india\")    "
   ]
  },
  {
   "cell_type": "code",
   "execution_count": 4,
   "metadata": {},
   "outputs": [
    {
     "name": "stdout",
     "output_type": "stream",
     "text": [
      "chai ki dukaan\n",
      "1. chai 10 ruppes\n",
      "2. bun makkhan 30 rs\n",
      "3. cutting 5 rs\n",
      "4. samosa 10 rs\n",
      "you have selected samosa\n"
     ]
    }
   ],
   "source": [
    "print(\"chai ki dukaan\")\n",
    "print(\"1. chai 10 ruppes\")\n",
    "print(\"2. bun makkhan 30 rs\")\n",
    "print(\"3. cutting 5 rs\")\n",
    "print(\"4. samosa 10 rs\")\n",
    "choice = int(input(\"enter your choice:\"))\n",
    "match choice:\n",
    "    case 1:\n",
    "        print(\"you have selected chai\")\n",
    "    case 2:\n",
    "        print(\"you have selected bun makkhan\")\n",
    "    case 3:\n",
    "        print(\"you have selected cutting\")\n",
    "    case 4: \n",
    "        print(\"you have selected samosa\")\n",
    "    case _:\n",
    "        print(\"chal nikal\")"
   ]
  },
  {
   "cell_type": "markdown",
   "metadata": {},
   "source": [
    "##loops\n",
    " - step based loops (for loop)\n",
    " - condition based loops (while loops)\n",
    "\n",
    " for loop syntax\n",
    " ```python\n",
    " for varname in iterable\n",
    "     statement 1\n",
    "     statement 2\n",
    "    ...\n",
    "     statement n\n",
    "\n",
    "     while expression:\n",
    "        statement 1\n",
    "        statement 2\n",
    "        ...\n",
    "        statement n\n",
    "        \n",
    "\n"
   ]
  },
  {
   "cell_type": "code",
   "execution_count": 4,
   "metadata": {},
   "outputs": [
    {
     "name": "stdout",
     "output_type": "stream",
     "text": [
      "11\n",
      "22\n",
      "33\n",
      "44\n",
      "55\n",
      "66\n"
     ]
    }
   ],
   "source": [
    "numbers=[11,22,33,44,55,66]\n",
    "for i in numbers:\n",
    "    print(i)"
   ]
  },
  {
   "cell_type": "code",
   "execution_count": 5,
   "metadata": {},
   "outputs": [
    {
     "name": "stdout",
     "output_type": "stream",
     "text": [
      "sony\n",
      "apple\n",
      "lenovo\n",
      "samsung\n"
     ]
    }
   ],
   "source": [
    "brands=['sony','apple','lenovo','samsung']\n",
    "for name in brands:\n",
    "    print(name)"
   ]
  },
  {
   "cell_type": "markdown",
   "metadata": {},
   "source": [
    "iterable\n",
    "- list\n",
    "- str\n",
    "- tuple\n",
    "- set\n",
    "- dict\n",
    "- range\n",
    "- genrators\n"
   ]
  },
  {
   "cell_type": "code",
   "execution_count": 6,
   "metadata": {},
   "outputs": [
    {
     "name": "stdout",
     "output_type": "stream",
     "text": [
      "j\n",
      "o\n",
      "u\n",
      "r\n",
      "n\n",
      "e\n",
      "y\n"
     ]
    }
   ],
   "source": [
    "word = \"journey\"\n",
    "for ch in word:\n",
    "    print(ch)"
   ]
  },
  {
   "cell_type": "code",
   "execution_count": 8,
   "metadata": {},
   "outputs": [
    {
     "name": "stdout",
     "output_type": "stream",
     "text": [
      "66,55,22,87,122,"
     ]
    }
   ],
   "source": [
    "for i in {122,22,55,87,66}:\n",
    "    print(i, end=',')"
   ]
  },
  {
   "cell_type": "markdown",
   "metadata": {},
   "source": [
    "```python\n",
    "# range function for the for loop\n"
   ]
  },
  {
   "cell_type": "code",
   "execution_count": 9,
   "metadata": {},
   "outputs": [
    {
     "name": "stdout",
     "output_type": "stream",
     "text": [
      "5,6,7,8,9,10,"
     ]
    }
   ],
   "source": [
    "for i in range(5, 11):\n",
    "    print(i, end=\",\")"
   ]
  },
  {
   "cell_type": "code",
   "execution_count": 10,
   "metadata": {},
   "outputs": [
    {
     "name": "stdout",
     "output_type": "stream",
     "text": [
      "5,7,9,11,13,"
     ]
    }
   ],
   "source": [
    "for i in range(5, 15, 2):\n",
    "    print(i, end=\",\")"
   ]
  },
  {
   "cell_type": "code",
   "execution_count": 11,
   "metadata": {},
   "outputs": [
    {
     "name": "stdout",
     "output_type": "stream",
     "text": [
      "-5,-4,-3,-2,-1,0,1,2,3,4,5,"
     ]
    }
   ],
   "source": [
    "for i in range(-5, 6, +1):\n",
    "    print(i, end=\",\")"
   ]
  },
  {
   "cell_type": "code",
   "execution_count": 12,
   "metadata": {},
   "outputs": [
    {
     "name": "stdout",
     "output_type": "stream",
     "text": [
      "5,7,9,11,13,"
     ]
    }
   ],
   "source": [
    "# reverse loop\n",
    "for i in range(5, 15, 2):\n",
    "    print(i, end=\",\")"
   ]
  },
  {
   "cell_type": "code",
   "execution_count": 16,
   "metadata": {},
   "outputs": [
    {
     "name": "stdout",
     "output_type": "stream",
     "text": [
      "5050\n"
     ]
    }
   ],
   "source": [
    "# sum of all numbers from 1 - 100\n",
    "total=0\n",
    "for i in range(1, 101):\n",
    "    total=total+i\n",
    "print(total) "
   ]
  },
  {
   "cell_type": "code",
   "execution_count": 17,
   "metadata": {},
   "outputs": [
    {
     "data": {
      "text/plain": [
       "5050"
      ]
     },
     "execution_count": 17,
     "metadata": {},
     "output_type": "execute_result"
    }
   ],
   "source": [
    "# alternative for above code\n",
    "# type casting range to list\n",
    "sum(list(range(1,101)))"
   ]
  },
  {
   "cell_type": "code",
   "execution_count": 18,
   "metadata": {},
   "outputs": [
    {
     "name": "stdout",
     "output_type": "stream",
     "text": [
      "jackson\n"
     ]
    }
   ],
   "source": [
    "# find the largest word in the list\n",
    "word = 'ben'\n",
    "words = ['ben','jake','paul','jackson','sam']\n",
    "for item in words:\n",
    "    if len(item) > len(word):\n",
    "        word = item\n",
    "print(word)       "
   ]
  },
  {
   "cell_type": "markdown",
   "metadata": {},
   "source": [
    "#brake and continue"
   ]
  },
  {
   "cell_type": "code",
   "execution_count": 19,
   "metadata": {},
   "outputs": [
    {
     "name": "stdout",
     "output_type": "stream",
     "text": [
      "0,1,2,3,4,the end\n"
     ]
    }
   ],
   "source": [
    "for i  in range(10):\n",
    "    if i == 5:\n",
    "        break\n",
    "    print(i, end=',')\n",
    "print(\"the end\")"
   ]
  },
  {
   "cell_type": "code",
   "execution_count": 22,
   "metadata": {},
   "outputs": [
    {
     "name": "stdout",
     "output_type": "stream",
     "text": [
      "1\n",
      "2\n",
      "3\n",
      "4\n",
      "5\n",
      "we found some crap\n"
     ]
    }
   ],
   "source": [
    "data = [1,2,3,4,5,0,7,8,9]\n",
    "for i in data:\n",
    "    if i == 0:\n",
    "        print(\"we found some crap\")\n",
    "        break #stop the loop\n",
    "    print(i)"
   ]
  },
  {
   "cell_type": "code",
   "execution_count": 23,
   "metadata": {},
   "outputs": [
    {
     "name": "stdout",
     "output_type": "stream",
     "text": [
      "1\n",
      "4\n",
      "9\n",
      "16\n",
      "25\n",
      "49\n",
      "64\n",
      "81\n"
     ]
    }
   ],
   "source": [
    "data = [1,2,3,4,5,0,7,8,9]\n",
    "for i in data:\n",
    "    if i == 0:\n",
    "        continue # skip to next item\n",
    "    print(i**2)"
   ]
  },
  {
   "cell_type": "markdown",
   "metadata": {},
   "source": [
    "```python\n",
    "enumerate() , zip()"
   ]
  },
  {
   "cell_type": "code",
   "execution_count": 25,
   "metadata": {},
   "outputs": [
    {
     "name": "stdout",
     "output_type": "stream",
     "text": [
      "0 apple\n",
      "1 banana\n",
      "2 mango\n",
      "3 orange\n",
      "4 kiwi\n"
     ]
    }
   ],
   "source": [
    "fruits = ['apple','banana','mango','orange','kiwi']\n",
    "for idx,name in enumerate(fruits): #enumerate function gives 2 values one is the index number and the second one is data\n",
    "    print(idx, name)"
   ]
  },
  {
   "cell_type": "code",
   "execution_count": 26,
   "metadata": {},
   "outputs": [
    {
     "name": "stdout",
     "output_type": "stream",
     "text": [
      "0\n",
      "56\n",
      "134\n",
      "36\n",
      "224\n"
     ]
    }
   ],
   "source": [
    "numbers = [23,56,67,12,56]\n",
    "for idx, num in enumerate(numbers):\n",
    "    print(num*idx)"
   ]
  },
  {
   "cell_type": "code",
   "execution_count": 27,
   "metadata": {},
   "outputs": [
    {
     "name": "stdout",
     "output_type": "stream",
     "text": [
      "12\n",
      "24\n",
      "36\n",
      "48\n",
      "60\n"
     ]
    }
   ],
   "source": [
    "x = [1,2,3,4,5]\n",
    "y = [11,22,33,44,55]\n",
    "for i, j in zip(x, y):\n",
    "    print(i + j)"
   ]
  },
  {
   "cell_type": "code",
   "execution_count": 28,
   "metadata": {},
   "outputs": [
    {
     "name": "stdout",
     "output_type": "stream",
     "text": [
      "12 j\n",
      "15 e\n",
      "18 l\n"
     ]
    }
   ],
   "source": [
    "x = [1,2,3]\n",
    "y = [4,5,6]\n",
    "z = [7,8,9,10]\n",
    "w = 'jello'\n",
    "for i, j, k, l in zip(x, y, z, w):\n",
    "    print(i + j + k , l)"
   ]
  },
  {
   "cell_type": "code",
   "execution_count": 29,
   "metadata": {},
   "outputs": [
    {
     "name": "stdout",
     "output_type": "stream",
     "text": [
      "7\n"
     ]
    }
   ],
   "source": [
    "# count the number of vowels in a sentence\n",
    "sentence = 'this is a very good day'\n",
    "count=0\n",
    "for char in sentence:\n",
    "    if char == 'a' or char == 'e' or char == 'o' or char == 'i' or char == 'u':\n",
    "        count+=1\n",
    "print(count)"
   ]
  },
  {
   "cell_type": "code",
   "execution_count": null,
   "metadata": {},
   "outputs": [],
   "source": []
  }
 ],
 "metadata": {
  "kernelspec": {
   "display_name": "base",
   "language": "python",
   "name": "python3"
  },
  "language_info": {
   "codemirror_mode": {
    "name": "ipython",
    "version": 3
   },
   "file_extension": ".py",
   "mimetype": "text/x-python",
   "name": "python",
   "nbconvert_exporter": "python",
   "pygments_lexer": "ipython3",
   "version": "3.12.4"
  }
 },
 "nbformat": 4,
 "nbformat_minor": 2
}
