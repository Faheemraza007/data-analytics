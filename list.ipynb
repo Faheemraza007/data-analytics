{
 "cells": [
  {
   "cell_type": "markdown",
   "metadata": {},
   "source": [
    "\n",
    "# data structure - list \n",
    "\n",
    "1. creating\n",
    "2. indexing and slicing\n",
    "3. methods -  11 methods\n",
    "4. list comprehension\n"
   ]
  },
  {
   "cell_type": "code",
   "execution_count": 3,
   "metadata": {},
   "outputs": [],
   "source": [
    "x = []  # empty lsit\n",
    "num_list = [1,2,3,4,5]\n",
    "word_list = ['this', 'that', 'of', 'what']\n",
    "bool_list = [True, False, True, False]\n",
    "mixed_list = [1,2,\"three\",False]\n",
    "nested_list = [[1,2,3], [4,5,6]]"
   ]
  },
  {
   "cell_type": "code",
   "execution_count": 4,
   "metadata": {},
   "outputs": [
    {
     "name": "stdout",
     "output_type": "stream",
     "text": [
      "[1, 4, 7, 10, 13]\n",
      "[[1, 2, 3], [1, 3, 2], [3, 2, 1]]\n",
      "[1, 1, 1, 1, 1, 1, 1, 1, 1, 1]\n"
     ]
    }
   ],
   "source": [
    "y = list(range(1,16,3))\n",
    "print(y)\n",
    "a = [1,2,3]\n",
    "b = [1,3,2]\n",
    "c = [3,2,1]\n",
    "mat = [a,b,c] # list of variables\n",
    "print(mat)\n",
    "z = [1] * 10  # duplicated list\n",
    "print(z)"
   ]
  },
  {
   "cell_type": "markdown",
   "metadata": {},
   "source": [
    "# Rules for list\n",
    "1. indexed\n",
    "2. ordered\n",
    "3. mutable\n",
    "4. heterogenous\n",
    "5. can have duplicate values\n",
    "6. repreented with `[]`\n",
    "7. `list()` can used to cast other datastructure to a list"
   ]
  },
  {
   "cell_type": "code",
   "execution_count": 5,
   "metadata": {},
   "outputs": [
    {
     "name": "stdout",
     "output_type": "stream",
     "text": [
      "12\n"
     ]
    }
   ],
   "source": [
    "names = ['Satwik', 'manas', 'shiv', 'arpit', 'ritesh', 'paras','faheem','ammar','esha','sachin','savri','shailja']\n",
    "print(len(names))"
   ]
  },
  {
   "cell_type": "code",
   "execution_count": null,
   "metadata": {},
   "outputs": [],
   "source": [
    "# indexing\n",
    "print"
   ]
  },
  {
   "cell_type": "code",
   "execution_count": 7,
   "metadata": {},
   "outputs": [
    {
     "name": "stdout",
     "output_type": "stream",
     "text": [
      "kiwtaS\n",
      "sanam\n",
      "vihs\n",
      "tipra\n",
      "hsetir\n",
      "sarap\n",
      "meehaf\n",
      "ramma\n",
      "ahse\n",
      "nihcas\n",
      "irvas\n",
      "ajliahs\n"
     ]
    }
   ],
   "source": [
    "for i in names:\n",
    "    print(i[::-1])"
   ]
  },
  {
   "cell_type": "markdown",
   "metadata": {},
   "source": [
    "# list method\n",
    "- add\n",
    "  - append \n",
    "  - extend\n",
    "  - insert\n",
    "\n",
    "- remove\n",
    "  - remove\n",
    "  - pop\n",
    "  - clear\n",
    "\n",
    "- utility\n",
    "  - reverse\n",
    "  - sort\n",
    "  - count\n",
    "  - index\n",
    "  - copy "
   ]
  },
  {
   "cell_type": "code",
   "execution_count": 11,
   "metadata": {},
   "outputs": [],
   "source": [
    "fruits = ['apple','banana','cherry','fragonfruit','elderberry','fig']\n"
   ]
  },
  {
   "cell_type": "code",
   "execution_count": 12,
   "metadata": {},
   "outputs": [
    {
     "name": "stdout",
     "output_type": "stream",
     "text": [
      "['apple', 'banana', 'cherry', 'fragonfruit', 'elderberry', 'fig', 'gauva']\n"
     ]
    }
   ],
   "source": [
    "fruits.append('gauva')\n",
    "print(fruits)"
   ]
  },
  {
   "cell_type": "code",
   "execution_count": 14,
   "metadata": {},
   "outputs": [
    {
     "name": "stdout",
     "output_type": "stream",
     "text": [
      "['apple', 'banana', 'cherry', 'fragonfruit', 'elderberry', 'fig', 'gauva', 'kiwi', 'leachy', 'kiwi', 'leachy']\n"
     ]
    }
   ],
   "source": [
    "fruits.append('kiwi')\n",
    "fruits.append('leachy')\n",
    "print(fruits)"
   ]
  },
  {
   "cell_type": "code",
   "execution_count": 15,
   "metadata": {},
   "outputs": [
    {
     "name": "stdout",
     "output_type": "stream",
     "text": [
      "['apple', 'banana', 'cherry', 'fragonfruit', 'elderberry', 'fig', 'gauva', 'kiwi', 'leachy', 'kiwi', 'leachy', 1, 2, 3]\n"
     ]
    }
   ],
   "source": [
    "fruits.extend([1,2,3])  #add each element as proper values\n",
    "print(fruits)"
   ]
  },
  {
   "cell_type": "code",
   "execution_count": 31,
   "metadata": {},
   "outputs": [
    {
     "name": "stdout",
     "output_type": "stream",
     "text": [
      "[11, 12, 13, 15, 18, 20]\n"
     ]
    }
   ],
   "source": [
    "x = [11,12,14,15,18,20]\n",
    "# replace value (14) by (13)\n",
    "x[2] = 13 # replace the value \n",
    "print(x)"
   ]
  },
  {
   "cell_type": "code",
   "execution_count": 32,
   "metadata": {},
   "outputs": [
    {
     "name": "stdout",
     "output_type": "stream",
     "text": [
      "[11, 12, 13, 15, 16, 17, 18, 20]\n"
     ]
    }
   ],
   "source": [
    "x.insert(4,16) # insert a value by keeping all the remaining values\n",
    "x.insert(5,17)\n",
    "print(x)"
   ]
  },
  {
   "cell_type": "code",
   "execution_count": 33,
   "metadata": {},
   "outputs": [
    {
     "name": "stdout",
     "output_type": "stream",
     "text": [
      "[11, 12, 13, 15, 16, 17, 18, 19, 20]\n"
     ]
    }
   ],
   "source": [
    "x.insert(-1,19)\n",
    "print(x)"
   ]
  },
  {
   "cell_type": "code",
   "execution_count": 34,
   "metadata": {},
   "outputs": [
    {
     "name": "stdout",
     "output_type": "stream",
     "text": [
      "[11, 12, 13, 15, 16, 17, 18, 19]\n"
     ]
    }
   ],
   "source": [
    "x.remove(20)\n",
    "print(x)"
   ]
  },
  {
   "cell_type": "code",
   "execution_count": 36,
   "metadata": {},
   "outputs": [
    {
     "name": "stdout",
     "output_type": "stream",
     "text": [
      "[1, 1, 1, 1, 1, 2, 2, 2, 2]\n",
      "[1, 1, 2, 2, 2, 2]\n"
     ]
    }
   ],
   "source": [
    "x = [1,1,1,1,1,2,2,2,2]\n",
    "print(x)\n",
    "x.remove(1)  # remove only first occurance\n",
    "x.remove(1)  # remove only first occurance\n",
    "x.remove(1)  # remove only first occurance\n",
    "print(x)"
   ]
  },
  {
   "cell_type": "code",
   "execution_count": 37,
   "metadata": {},
   "outputs": [
    {
     "name": "stdout",
     "output_type": "stream",
     "text": [
      "[1, 2, 3, 4]\n"
     ]
    }
   ],
   "source": [
    "x = [1,2,3,4,5]\n",
    "if 5 in x:\n",
    "    x.remove(5)\n",
    "if 6 in x:\n",
    "    x.remove(6)\n",
    "print(x)\n"
   ]
  },
  {
   "cell_type": "code",
   "execution_count": 38,
   "metadata": {},
   "outputs": [
    {
     "name": "stdout",
     "output_type": "stream",
     "text": [
      "[11, 22, 33, 44]\n",
      "[11, 22, 44]\n"
     ]
    }
   ],
   "source": [
    "x = [11,22,33,44,55]\n",
    "x.pop() # removes last element\n",
    "print(x) \n",
    "x.pop(2)# removes element from index no 2\n",
    "print(x)"
   ]
  },
  {
   "cell_type": "code",
   "execution_count": 39,
   "metadata": {},
   "outputs": [
    {
     "name": "stdout",
     "output_type": "stream",
     "text": [
      "[3, 2, 1, 'leachy', 'kiwi', 'leachy', 'kiwi', 'gauva', 'fig', 'elderberry', 'fragonfruit', 'cherry', 'banana', 'apple']\n"
     ]
    }
   ],
   "source": [
    "fruits.reverse()\n",
    "print(fruits)"
   ]
  },
  {
   "cell_type": "code",
   "execution_count": 40,
   "metadata": {},
   "outputs": [
    {
     "name": "stdout",
     "output_type": "stream",
     "text": [
      "[1, 2, 3, 4, 5, 6, 7]\n",
      "[7, 6, 5, 4, 3, 2, 1]\n"
     ]
    }
   ],
   "source": [
    "num = [1,2,3,4,5,6,7]\n",
    "num.sort()\n",
    "print(num)\n",
    "num.sort(reverse=True)\n",
    "print(num)"
   ]
  },
  {
   "cell_type": "code",
   "execution_count": 42,
   "metadata": {},
   "outputs": [
    {
     "name": "stdout",
     "output_type": "stream",
     "text": [
      "0\n",
      "0\n",
      "0\n",
      "3\n",
      "2\n"
     ]
    }
   ],
   "source": [
    "x = [12,22,45,85,98,88,88,88,75,57,75,]\n",
    "print(x.count(1))  # tells how many times the values is repeated\n",
    "print(x.count(6))\n",
    "print(x.count(65))\n",
    "print(x.count(88))\n",
    "print(x.count(75))"
   ]
  },
  {
   "cell_type": "code",
   "execution_count": 43,
   "metadata": {},
   "outputs": [
    {
     "name": "stdout",
     "output_type": "stream",
     "text": [
      "[3, 2, 1, 'leachy', 'kiwi', 'leachy', 'kiwi', 'gauva', 'fig', 'elderberry', 'fragonfruit', 'cherry', 'banana', 'apple']\n",
      "4\n"
     ]
    }
   ],
   "source": [
    "print(fruits)\n",
    "print(fruits.index('kiwi'))"
   ]
  },
  {
   "cell_type": "code",
   "execution_count": 44,
   "metadata": {},
   "outputs": [
    {
     "name": "stdout",
     "output_type": "stream",
     "text": [
      "[1, 2, 3, 4]\n",
      "[1, 2, 3, 4]\n",
      "True\n",
      "[1, 2, 3, 4]\n",
      "[1, 2, 3, 4]\n",
      "False\n"
     ]
    }
   ],
   "source": [
    "x = [1,2,3,4]\n",
    "y = x  # store the refrence of x in y\n",
    "print(x)\n",
    "print(y)\n",
    "print(y is x)\n",
    "z = x.copy()  #create a seperate copy of items in a new memory \n",
    "print(x)\n",
    "print(z)\n",
    "print(z is x)"
   ]
  },
  {
   "cell_type": "code",
   "execution_count": null,
   "metadata": {},
   "outputs": [],
   "source": []
  }
 ],
 "metadata": {
  "kernelspec": {
   "display_name": "base",
   "language": "python",
   "name": "python3"
  },
  "language_info": {
   "codemirror_mode": {
    "name": "ipython",
    "version": 3
   },
   "file_extension": ".py",
   "mimetype": "text/x-python",
   "name": "python",
   "nbconvert_exporter": "python",
   "pygments_lexer": "ipython3",
   "version": "3.12.4"
  }
 },
 "nbformat": 4,
 "nbformat_minor": 2
}
