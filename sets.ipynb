{
 "cells": [
  {
   "cell_type": "markdown",
   "metadata": {},
   "source": [
    "# data structure - set\n",
    "- unordered\n",
    "- unindexed\n",
    "- mutable\n",
    "- mixed immutable elements\n",
    "- unique elements\n",
    "- iterable\n",
    "- represented by curly braces '()'\n",
    "- set() for creating sets"
   ]
  },
  {
   "cell_type": "code",
   "execution_count": 1,
   "metadata": {},
   "outputs": [
    {
     "name": "stdout",
     "output_type": "stream",
     "text": [
      "set() <class 'set'>\n",
      "{1, 2, 3}\n",
      "{'d', 'a', 'c', 'b'}\n",
      "{1, 2, 3, 4, 5}\n",
      "{1, 2, 3, 'a', 'c', 'b'}\n",
      "{1, 2, 3, 4, 6}\n"
     ]
    }
   ],
   "source": [
    "x = set() # empty set\n",
    "print(x, type(x))\n",
    "y = {1,2,3}\n",
    "z = {'a','b','c','d'}\n",
    "print(y)\n",
    "print(z)\n",
    "a = set([1,2,3,4,5])\n",
    "print(a)\n",
    "b = {'a', 1, 'b',2 ,'c', 3}\n",
    "print(b)\n",
    "c = {1,2,3,4,2,4,6,}\n",
    "print(c)"
   ]
  },
  {
   "cell_type": "code",
   "execution_count": 2,
   "metadata": {},
   "outputs": [
    {
     "name": "stdout",
     "output_type": "stream",
     "text": [
      "1\n",
      "2\n",
      "3\n",
      "a\n",
      "c\n",
      "b\n"
     ]
    }
   ],
   "source": [
    "# traversing a set\n",
    "for i in b:\n",
    "    print(i)"
   ]
  },
  {
   "cell_type": "code",
   "execution_count": 3,
   "metadata": {},
   "outputs": [
    {
     "name": "stdout",
     "output_type": "stream",
     "text": [
      "{'snapshot', 'steelheart', 'firefighter', 'legion'}\n"
     ]
    }
   ],
   "source": [
    "books = set()\n",
    "books.add(\"legion\")\n",
    "books.add(\"snapshot\")\n",
    "books.add(\"steelheart\")\n",
    "books.add(\"firefighter\")\n",
    "print(books)\n"
   ]
  },
  {
   "cell_type": "code",
   "execution_count": 4,
   "metadata": {},
   "outputs": [
    {
     "name": "stdout",
     "output_type": "stream",
     "text": [
      "{'snapshot', 'firefighter', 'calamity', 'legion', 'steelheart', 'elantris', 'mistborn'}\n"
     ]
    }
   ],
   "source": [
    "books.update([\"calamity\",\"mistborn\",\"elantris\"])\n",
    "print(books)"
   ]
  },
  {
   "cell_type": "code",
   "execution_count": 5,
   "metadata": {},
   "outputs": [],
   "source": [
    "books.discard(\"mistborn\")  # discard is better than remove\n"
   ]
  },
  {
   "cell_type": "code",
   "execution_count": 6,
   "metadata": {},
   "outputs": [
    {
     "data": {
      "text/plain": [
       "'snapshot'"
      ]
     },
     "execution_count": 6,
     "metadata": {},
     "output_type": "execute_result"
    }
   ],
   "source": [
    "books.pop()  # removes a random element"
   ]
  },
  {
   "cell_type": "code",
   "execution_count": 7,
   "metadata": {},
   "outputs": [],
   "source": [
    "a = {1,2,3,4,5}\n",
    "b = {4,5,6,7,8,}\n",
    "c = {1,2,3}\n",
    "d = {5,6,7}"
   ]
  },
  {
   "cell_type": "markdown",
   "metadata": {},
   "source": [
    "- `union()`  => `|`\n",
    "- `intersection()`  => `&`\n",
    "- `difference()`  => `-`\n",
    "- `symmetric_difference()` => ^"
   ]
  },
  {
   "cell_type": "code",
   "execution_count": 8,
   "metadata": {},
   "outputs": [
    {
     "name": "stdout",
     "output_type": "stream",
     "text": [
      "intersection\n",
      "{4, 5}\n",
      "{4, 5}\n",
      "difference\n",
      "{1, 2, 3}\n",
      "{1, 2, 3}\n",
      "symmetric difference\n",
      "{1, 2, 3, 6, 7, 8}\n",
      "{1, 2, 3, 6, 7, 8}\n"
     ]
    }
   ],
   "source": [
    "print(\"intersection\")\n",
    "print(a.intersection(b))\n",
    "print(a&b)\n",
    "\n",
    "print(\"difference\")\n",
    "print(a.difference(b))\n",
    "print(a-b)\n",
    "\n",
    "print(\"symmetric difference\")\n",
    "print(a.symmetric_difference(b))\n",
    "print(a^b)"
   ]
  },
  {
   "cell_type": "code",
   "execution_count": 9,
   "metadata": {},
   "outputs": [
    {
     "name": "stdout",
     "output_type": "stream",
     "text": [
      "joined False\n",
      "disjoined: True\n"
     ]
    }
   ],
   "source": [
    "print(\"joined\", a.isdisjoint(c))\n",
    "print(\"disjoined:\", a.isdisjoint({11,12}))\n",
    "\n"
   ]
  },
  {
   "cell_type": "code",
   "execution_count": 10,
   "metadata": {},
   "outputs": [
    {
     "name": "stdout",
     "output_type": "stream",
     "text": [
      "subset: True\n",
      "superset: False\n",
      "superset: True\n"
     ]
    }
   ],
   "source": [
    "print(\"subset:\",c.issubset(a))\n",
    "print(\"superset:\",d.issuperset(a))\n",
    "print(\"superset:\",b.issuperset(d))\n",
    "\n"
   ]
  },
  {
   "cell_type": "markdown",
   "metadata": {},
   "source": [
    "# wap that allows user to enter data as much as they want and then remove duplicates and print unique number"
   ]
  },
  {
   "cell_type": "code",
   "execution_count": 14,
   "metadata": {},
   "outputs": [
    {
     "name": "stdout",
     "output_type": "stream",
     "text": [
      "{'353537', '353', '757', '3', '5757', '9798', '575757575', '12', '7557', '77878'}\n"
     ]
    }
   ],
   "source": [
    "lenn = int(input(\"enter the number of elements you want in the set\"))\n",
    "n = 0\n",
    "sett = set()\n",
    "while n < lenn:\n",
    "    el = input(\"enter the elements : \")\n",
    "    sett.add(el)\n",
    "    n+=1\n",
    "print(sett)\n"
   ]
  },
  {
   "cell_type": "code",
   "execution_count": 15,
   "metadata": {},
   "outputs": [
    {
     "name": "stdout",
     "output_type": "stream",
     "text": [
      "your data\n",
      "==> 23154\n",
      "==> 12\n",
      "==> 15\n",
      "==> 2\n"
     ]
    }
   ],
   "source": [
    "data = set()\n",
    "while True:\n",
    "    value =  input(\"enter your data\")\n",
    "    if not value:\n",
    "        break\n",
    "    data.add(value)\n",
    "print(\"your data\")\n",
    "for item in data:\n",
    "    print(\"==>\",item)"
   ]
  },
  {
   "cell_type": "code",
   "execution_count": null,
   "metadata": {},
   "outputs": [],
   "source": []
  }
 ],
 "metadata": {
  "kernelspec": {
   "display_name": "base",
   "language": "python",
   "name": "python3"
  },
  "language_info": {
   "codemirror_mode": {
    "name": "ipython",
    "version": 3
   },
   "file_extension": ".py",
   "mimetype": "text/x-python",
   "name": "python",
   "nbconvert_exporter": "python",
   "pygments_lexer": "ipython3",
   "version": "3.12.4"
  }
 },
 "nbformat": 4,
 "nbformat_minor": 2
}
